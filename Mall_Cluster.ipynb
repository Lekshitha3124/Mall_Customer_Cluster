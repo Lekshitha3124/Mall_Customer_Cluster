{
  "nbformat": 4,
  "nbformat_minor": 0,
  "metadata": {
    "colab": {
      "provenance": [],
      "authorship_tag": "ABX9TyMj7muz5mQ6enZxjvIs43v/",
      "include_colab_link": true
    },
    "kernelspec": {
      "name": "python3",
      "display_name": "Python 3"
    },
    "language_info": {
      "name": "python"
    }
  },
  "cells": [
    {
      "cell_type": "markdown",
      "metadata": {
        "id": "view-in-github",
        "colab_type": "text"
      },
      "source": [
        "<a href=\"https://colab.research.google.com/github/Lekshitha3124/Mall_Customer_Cluster/blob/main/Mall_Cluster.ipynb\" target=\"_parent\"><img src=\"https://colab.research.google.com/assets/colab-badge.svg\" alt=\"Open In Colab\"/></a>"
      ]
    },
    {
      "cell_type": "markdown",
      "source": [
        "Importing moules"
      ],
      "metadata": {
        "id": "oRi4GUp4pzvL"
      }
    },
    {
      "cell_type": "code",
      "execution_count": 1,
      "metadata": {
        "id": "wLc4YElppEec"
      },
      "outputs": [],
      "source": [
        "import pandas as pd\n",
        "import numpy as np\n",
        "import matplotlib.pyplot as plt\n",
        "import seaborn as sns\n",
        "from sklearn.preprocessing import StandardScaler, LabelEncoder\n",
        "from sklearn.cluster import KMeans\n",
        "from sklearn.metrics import silhouette_score"
      ]
    },
    {
      "cell_type": "markdown",
      "source": [
        "Load Data"
      ],
      "metadata": {
        "id": "VdCl5mg0p_wJ"
      }
    },
    {
      "cell_type": "code",
      "source": [
        "data = pd.read_csv('./Data/Mall_Customers.csv')"
      ],
      "metadata": {
        "id": "KKWjRsZ8pydR"
      },
      "execution_count": 2,
      "outputs": []
    },
    {
      "cell_type": "markdown",
      "source": [
        "Preprocessing Data"
      ],
      "metadata": {
        "id": "UMWlM2ZoqXlC"
      }
    },
    {
      "cell_type": "code",
      "source": [
        "numeric_columns = data.select_dtypes(include=[np.number]).columns\n",
        "non_numeric_columns = data.select_dtypes(exclude=[np.number]).columns"
      ],
      "metadata": {
        "id": "UjjJUs-XqI-J"
      },
      "execution_count": 3,
      "outputs": []
    },
    {
      "cell_type": "code",
      "source": [
        "data[numeric_columns] = data[numeric_columns].fillna(data[numeric_columns].mean())\n"
      ],
      "metadata": {
        "id": "QFN9FcE4qRAM"
      },
      "execution_count": 4,
      "outputs": []
    },
    {
      "cell_type": "code",
      "source": [
        "label_encoder = LabelEncoder()\n",
        "for column in non_numeric_columns:\n",
        "    data[column] = label_encoder.fit_transform(data[column].astype(str))"
      ],
      "metadata": {
        "id": "WDddLI2RqTIy"
      },
      "execution_count": 5,
      "outputs": []
    },
    {
      "cell_type": "code",
      "source": [],
      "metadata": {
        "id": "w2VAwdjFqWRN"
      },
      "execution_count": null,
      "outputs": []
    }
  ]
}